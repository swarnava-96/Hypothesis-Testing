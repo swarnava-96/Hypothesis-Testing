{
  "nbformat": 4,
  "nbformat_minor": 0,
  "metadata": {
    "colab": {
      "name": "Paired T-test",
      "provenance": [],
      "authorship_tag": "ABX9TyNE5HN+9NqLK6cF5JxVECLe",
      "include_colab_link": true
    },
    "kernelspec": {
      "name": "python3",
      "display_name": "Python 3"
    },
    "language_info": {
      "name": "python"
    }
  },
  "cells": [
    {
      "cell_type": "markdown",
      "metadata": {
        "id": "view-in-github",
        "colab_type": "text"
      },
      "source": [
        "<a href=\"https://colab.research.google.com/github/swarnava-96/Hypothesis-Testing/blob/main/Paired_T_test.ipynb\" target=\"_parent\"><img src=\"https://colab.research.google.com/assets/colab-badge.svg\" alt=\"Open In Colab\"/></a>"
      ]
    },
    {
      "cell_type": "markdown",
      "metadata": {
        "id": "A1MHwizoW8ly"
      },
      "source": [
        "# **Paired T-test**\n",
        "When you want to check how different samples from the same group are, you can go for a paired T-test."
      ]
    },
    {
      "cell_type": "code",
      "metadata": {
        "id": "naD_FJ_nXBaI"
      },
      "source": [
        "import numpy as np\n",
        "import pandas as pd\n",
        "import scipy.stats as stats"
      ],
      "execution_count": 1,
      "outputs": []
    },
    {
      "cell_type": "code",
      "metadata": {
        "id": "hpx0GAXdXQnP"
      },
      "source": [
        "weight1 = [25,30,28,35,28,34,26,29,30,26,28,32,31,30,45]\n",
        "weight2 = weight1 + stats.norm.rvs(scale = 5, loc = -1.25, size = 15)"
      ],
      "execution_count": 2,
      "outputs": []
    },
    {
      "cell_type": "code",
      "metadata": {
        "colab": {
          "base_uri": "https://localhost:8080/"
        },
        "id": "4wRC8RchXl5x",
        "outputId": "74b00567-09f3-414c-8c76-d56a1da4ea8a"
      },
      "source": [
        "print(weight1)\n",
        "print(weight2)"
      ],
      "execution_count": 3,
      "outputs": [
        {
          "output_type": "stream",
          "text": [
            "[25, 30, 28, 35, 28, 34, 26, 29, 30, 26, 28, 32, 31, 30, 45]\n",
            "[25.05662587 25.50030762 20.71872146 33.92101855 24.09950711 34.78330357\n",
            " 23.65749817 35.06509622 25.7069042  34.01453507 30.87099873 35.85616311\n",
            " 23.53774925 32.61702936 46.67074076]\n"
          ],
          "name": "stdout"
        }
      ]
    },
    {
      "cell_type": "code",
      "metadata": {
        "colab": {
          "base_uri": "https://localhost:8080/",
          "height": 514
        },
        "id": "ZOLzx-QYXq6O",
        "outputId": "3a77bbc4-0e24-4737-98a6-67b7f810c0fe"
      },
      "source": [
        "weight_df = pd.DataFrame({\"Weight10\" : np.array(weight1),\n",
        "                          \"Weight20\" : np.array(weight2),\n",
        "                          \"Weight_change\" : np.array(weight2) - np.array(weight1)})\n",
        "\n",
        "weight_df"
      ],
      "execution_count": 4,
      "outputs": [
        {
          "output_type": "execute_result",
          "data": {
            "text/html": [
              "<div>\n",
              "<style scoped>\n",
              "    .dataframe tbody tr th:only-of-type {\n",
              "        vertical-align: middle;\n",
              "    }\n",
              "\n",
              "    .dataframe tbody tr th {\n",
              "        vertical-align: top;\n",
              "    }\n",
              "\n",
              "    .dataframe thead th {\n",
              "        text-align: right;\n",
              "    }\n",
              "</style>\n",
              "<table border=\"1\" class=\"dataframe\">\n",
              "  <thead>\n",
              "    <tr style=\"text-align: right;\">\n",
              "      <th></th>\n",
              "      <th>Weight10</th>\n",
              "      <th>Weight20</th>\n",
              "      <th>Weight_change</th>\n",
              "    </tr>\n",
              "  </thead>\n",
              "  <tbody>\n",
              "    <tr>\n",
              "      <th>0</th>\n",
              "      <td>25</td>\n",
              "      <td>25.056626</td>\n",
              "      <td>0.056626</td>\n",
              "    </tr>\n",
              "    <tr>\n",
              "      <th>1</th>\n",
              "      <td>30</td>\n",
              "      <td>25.500308</td>\n",
              "      <td>-4.499692</td>\n",
              "    </tr>\n",
              "    <tr>\n",
              "      <th>2</th>\n",
              "      <td>28</td>\n",
              "      <td>20.718721</td>\n",
              "      <td>-7.281279</td>\n",
              "    </tr>\n",
              "    <tr>\n",
              "      <th>3</th>\n",
              "      <td>35</td>\n",
              "      <td>33.921019</td>\n",
              "      <td>-1.078981</td>\n",
              "    </tr>\n",
              "    <tr>\n",
              "      <th>4</th>\n",
              "      <td>28</td>\n",
              "      <td>24.099507</td>\n",
              "      <td>-3.900493</td>\n",
              "    </tr>\n",
              "    <tr>\n",
              "      <th>5</th>\n",
              "      <td>34</td>\n",
              "      <td>34.783304</td>\n",
              "      <td>0.783304</td>\n",
              "    </tr>\n",
              "    <tr>\n",
              "      <th>6</th>\n",
              "      <td>26</td>\n",
              "      <td>23.657498</td>\n",
              "      <td>-2.342502</td>\n",
              "    </tr>\n",
              "    <tr>\n",
              "      <th>7</th>\n",
              "      <td>29</td>\n",
              "      <td>35.065096</td>\n",
              "      <td>6.065096</td>\n",
              "    </tr>\n",
              "    <tr>\n",
              "      <th>8</th>\n",
              "      <td>30</td>\n",
              "      <td>25.706904</td>\n",
              "      <td>-4.293096</td>\n",
              "    </tr>\n",
              "    <tr>\n",
              "      <th>9</th>\n",
              "      <td>26</td>\n",
              "      <td>34.014535</td>\n",
              "      <td>8.014535</td>\n",
              "    </tr>\n",
              "    <tr>\n",
              "      <th>10</th>\n",
              "      <td>28</td>\n",
              "      <td>30.870999</td>\n",
              "      <td>2.870999</td>\n",
              "    </tr>\n",
              "    <tr>\n",
              "      <th>11</th>\n",
              "      <td>32</td>\n",
              "      <td>35.856163</td>\n",
              "      <td>3.856163</td>\n",
              "    </tr>\n",
              "    <tr>\n",
              "      <th>12</th>\n",
              "      <td>31</td>\n",
              "      <td>23.537749</td>\n",
              "      <td>-7.462251</td>\n",
              "    </tr>\n",
              "    <tr>\n",
              "      <th>13</th>\n",
              "      <td>30</td>\n",
              "      <td>32.617029</td>\n",
              "      <td>2.617029</td>\n",
              "    </tr>\n",
              "    <tr>\n",
              "      <th>14</th>\n",
              "      <td>45</td>\n",
              "      <td>46.670741</td>\n",
              "      <td>1.670741</td>\n",
              "    </tr>\n",
              "  </tbody>\n",
              "</table>\n",
              "</div>"
            ],
            "text/plain": [
              "    Weight10   Weight20  Weight_change\n",
              "0         25  25.056626       0.056626\n",
              "1         30  25.500308      -4.499692\n",
              "2         28  20.718721      -7.281279\n",
              "3         35  33.921019      -1.078981\n",
              "4         28  24.099507      -3.900493\n",
              "5         34  34.783304       0.783304\n",
              "6         26  23.657498      -2.342502\n",
              "7         29  35.065096       6.065096\n",
              "8         30  25.706904      -4.293096\n",
              "9         26  34.014535       8.014535\n",
              "10        28  30.870999       2.870999\n",
              "11        32  35.856163       3.856163\n",
              "12        31  23.537749      -7.462251\n",
              "13        30  32.617029       2.617029\n",
              "14        45  46.670741       1.670741"
            ]
          },
          "metadata": {
            "tags": []
          },
          "execution_count": 4
        }
      ]
    },
    {
      "cell_type": "code",
      "metadata": {
        "colab": {
          "base_uri": "https://localhost:8080/"
        },
        "id": "LzloN8agXzUM",
        "outputId": "8523cc67-2e2a-46bb-b520-b21471ff37a8"
      },
      "source": [
        "# Paired t test\n",
        "\n",
        "_, pvalue = stats.ttest_rel(a = weight1, b = weight2)\n",
        "print(pvalue)"
      ],
      "execution_count": 5,
      "outputs": [
        {
          "output_type": "stream",
          "text": [
            "0.78829828860366\n"
          ],
          "name": "stdout"
        }
      ]
    },
    {
      "cell_type": "code",
      "metadata": {
        "colab": {
          "base_uri": "https://localhost:8080/"
        },
        "id": "bPVh-VW-ZMNg",
        "outputId": "d7959581-9d73-493a-8d4e-b96f762f7b77"
      },
      "source": [
        "# Hypothesis testing\n",
        "\n",
        "if pvalue < 0.05:\n",
        "  print(\"Reject the null hypothesis\")\n",
        "else:\n",
        "  print(\"Accept the null hypothesis\")"
      ],
      "execution_count": 6,
      "outputs": [
        {
          "output_type": "stream",
          "text": [
            "Accept the null hypothesis\n"
          ],
          "name": "stdout"
        }
      ]
    }
  ]
}