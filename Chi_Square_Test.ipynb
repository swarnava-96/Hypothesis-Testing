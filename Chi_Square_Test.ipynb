{
  "nbformat": 4,
  "nbformat_minor": 0,
  "metadata": {
    "colab": {
      "name": "Chi-Square Test",
      "provenance": [],
      "authorship_tag": "ABX9TyNZr0/gCq9cGvvZGcX3PQNZ",
      "include_colab_link": true
    },
    "kernelspec": {
      "name": "python3",
      "display_name": "Python 3"
    },
    "language_info": {
      "name": "python"
    }
  },
  "cells": [
    {
      "cell_type": "markdown",
      "metadata": {
        "id": "view-in-github",
        "colab_type": "text"
      },
      "source": [
        "<a href=\"https://colab.research.google.com/github/swarnava-96/Hypothesis-Testing/blob/main/Chi_Square_Test.ipynb\" target=\"_parent\"><img src=\"https://colab.research.google.com/assets/colab-badge.svg\" alt=\"Open In Colab\"/></a>"
      ]
    },
    {
      "cell_type": "markdown",
      "metadata": {
        "id": "cA_wClu9bT9d"
      },
      "source": [
        "# **Chi-Square Test**\n",
        "The test is applied when you have two categorical variables from a single population. It is used to determine whether there is a significant association between the two variables."
      ]
    },
    {
      "cell_type": "code",
      "metadata": {
        "id": "zkBrS2IUttQA"
      },
      "source": [
        "import scipy.stats as stats"
      ],
      "execution_count": 5,
      "outputs": []
    },
    {
      "cell_type": "code",
      "metadata": {
        "colab": {
          "base_uri": "https://localhost:8080/",
          "height": 204
        },
        "id": "XdM9Wj4At5xQ",
        "outputId": "71317272-88af-4dbd-9caf-bbeea2f2af34"
      },
      "source": [
        "import seaborn as sns\n",
        "import numpy as np\n",
        "import pandas as pd\n",
        "\n",
        "# Loading the tips dataset from seaborn\n",
        "dataset = sns.load_dataset('tips')\n",
        "\n",
        "dataset.head()"
      ],
      "execution_count": 6,
      "outputs": [
        {
          "output_type": "execute_result",
          "data": {
            "text/html": [
              "<div>\n",
              "<style scoped>\n",
              "    .dataframe tbody tr th:only-of-type {\n",
              "        vertical-align: middle;\n",
              "    }\n",
              "\n",
              "    .dataframe tbody tr th {\n",
              "        vertical-align: top;\n",
              "    }\n",
              "\n",
              "    .dataframe thead th {\n",
              "        text-align: right;\n",
              "    }\n",
              "</style>\n",
              "<table border=\"1\" class=\"dataframe\">\n",
              "  <thead>\n",
              "    <tr style=\"text-align: right;\">\n",
              "      <th></th>\n",
              "      <th>total_bill</th>\n",
              "      <th>tip</th>\n",
              "      <th>sex</th>\n",
              "      <th>smoker</th>\n",
              "      <th>day</th>\n",
              "      <th>time</th>\n",
              "      <th>size</th>\n",
              "    </tr>\n",
              "  </thead>\n",
              "  <tbody>\n",
              "    <tr>\n",
              "      <th>0</th>\n",
              "      <td>16.99</td>\n",
              "      <td>1.01</td>\n",
              "      <td>Female</td>\n",
              "      <td>No</td>\n",
              "      <td>Sun</td>\n",
              "      <td>Dinner</td>\n",
              "      <td>2</td>\n",
              "    </tr>\n",
              "    <tr>\n",
              "      <th>1</th>\n",
              "      <td>10.34</td>\n",
              "      <td>1.66</td>\n",
              "      <td>Male</td>\n",
              "      <td>No</td>\n",
              "      <td>Sun</td>\n",
              "      <td>Dinner</td>\n",
              "      <td>3</td>\n",
              "    </tr>\n",
              "    <tr>\n",
              "      <th>2</th>\n",
              "      <td>21.01</td>\n",
              "      <td>3.50</td>\n",
              "      <td>Male</td>\n",
              "      <td>No</td>\n",
              "      <td>Sun</td>\n",
              "      <td>Dinner</td>\n",
              "      <td>3</td>\n",
              "    </tr>\n",
              "    <tr>\n",
              "      <th>3</th>\n",
              "      <td>23.68</td>\n",
              "      <td>3.31</td>\n",
              "      <td>Male</td>\n",
              "      <td>No</td>\n",
              "      <td>Sun</td>\n",
              "      <td>Dinner</td>\n",
              "      <td>2</td>\n",
              "    </tr>\n",
              "    <tr>\n",
              "      <th>4</th>\n",
              "      <td>24.59</td>\n",
              "      <td>3.61</td>\n",
              "      <td>Female</td>\n",
              "      <td>No</td>\n",
              "      <td>Sun</td>\n",
              "      <td>Dinner</td>\n",
              "      <td>4</td>\n",
              "    </tr>\n",
              "  </tbody>\n",
              "</table>\n",
              "</div>"
            ],
            "text/plain": [
              "   total_bill   tip     sex smoker  day    time  size\n",
              "0       16.99  1.01  Female     No  Sun  Dinner     2\n",
              "1       10.34  1.66    Male     No  Sun  Dinner     3\n",
              "2       21.01  3.50    Male     No  Sun  Dinner     3\n",
              "3       23.68  3.31    Male     No  Sun  Dinner     2\n",
              "4       24.59  3.61  Female     No  Sun  Dinner     4"
            ]
          },
          "metadata": {
            "tags": []
          },
          "execution_count": 6
        }
      ]
    },
    {
      "cell_type": "code",
      "metadata": {
        "colab": {
          "base_uri": "https://localhost:8080/"
        },
        "id": "oD8w8NGFuTEL",
        "outputId": "a0a2ec67-e6df-4dd8-ee88-a48c8665466a"
      },
      "source": [
        "# Creating a crosstab with features \"sex\" and \"smoker\"\n",
        "\n",
        "dataset_table = pd.crosstab(dataset[\"sex\"], dataset[\"smoker\"])\n",
        "print(dataset_table)"
      ],
      "execution_count": 7,
      "outputs": [
        {
          "output_type": "stream",
          "text": [
            "smoker  Yes  No\n",
            "sex            \n",
            "Male     60  97\n",
            "Female   33  54\n"
          ],
          "name": "stdout"
        }
      ]
    },
    {
      "cell_type": "code",
      "metadata": {
        "colab": {
          "base_uri": "https://localhost:8080/"
        },
        "id": "YuYpWbu0uxO5",
        "outputId": "bc3b2f48-6480-407b-80e6-60f1ef84a488"
      },
      "source": [
        "# Checking the crosstab values\n",
        "\n",
        "dataset_table.values"
      ],
      "execution_count": 8,
      "outputs": [
        {
          "output_type": "execute_result",
          "data": {
            "text/plain": [
              "array([[60, 97],\n",
              "       [33, 54]])"
            ]
          },
          "metadata": {
            "tags": []
          },
          "execution_count": 8
        }
      ]
    },
    {
      "cell_type": "code",
      "metadata": {
        "colab": {
          "base_uri": "https://localhost:8080/"
        },
        "id": "rvaBFl2du5aW",
        "outputId": "c5cff4f3-60cf-419d-da59-48d1b3a00fe3"
      },
      "source": [
        "# Observed values\n",
        "\n",
        "observed_values = dataset_table.values\n",
        "print(\"Observed values: \\n\", observed_values)"
      ],
      "execution_count": 9,
      "outputs": [
        {
          "output_type": "stream",
          "text": [
            "Observed values: \n",
            " [[60 97]\n",
            " [33 54]]\n"
          ],
          "name": "stdout"
        }
      ]
    },
    {
      "cell_type": "code",
      "metadata": {
        "id": "TArIDMJfvQZz"
      },
      "source": [
        "# Chi square contingency\n",
        "\n",
        "val = stats.chi2_contingency(dataset_table)"
      ],
      "execution_count": 10,
      "outputs": []
    },
    {
      "cell_type": "code",
      "metadata": {
        "colab": {
          "base_uri": "https://localhost:8080/"
        },
        "id": "AaeCRmihv-5G",
        "outputId": "fae94de6-da44-4a8b-fc36-d4005f88cb29"
      },
      "source": [
        "val"
      ],
      "execution_count": 11,
      "outputs": [
        {
          "output_type": "execute_result",
          "data": {
            "text/plain": [
              "(0.008763290531773594, 0.925417020494423, 1, array([[59.84016393, 97.15983607],\n",
              "        [33.15983607, 53.84016393]]))"
            ]
          },
          "metadata": {
            "tags": []
          },
          "execution_count": 11
        }
      ]
    },
    {
      "cell_type": "code",
      "metadata": {
        "id": "GQ5AfjPKwBwR"
      },
      "source": [
        "expected_values = val[3]"
      ],
      "execution_count": 12,
      "outputs": []
    },
    {
      "cell_type": "code",
      "metadata": {
        "colab": {
          "base_uri": "https://localhost:8080/"
        },
        "id": "EvyhPc4PwJFI",
        "outputId": "89994676-aa94-41ae-814f-ebd3de800b92"
      },
      "source": [
        "# Degrees of freedom\n",
        "\n",
        "no_of_rows = len(dataset_table.iloc[0:2,0])\n",
        "no_of_columns = len(dataset_table.iloc[0,0:2])\n",
        "ddof = (no_of_rows - 1) * (no_of_columns - 1)\n",
        "print(\"Degrees of Freedom: \",ddof )\n",
        "alpha = 0.05"
      ],
      "execution_count": 13,
      "outputs": [
        {
          "output_type": "stream",
          "text": [
            "Degrees of Freedom:  1\n"
          ],
          "name": "stdout"
        }
      ]
    },
    {
      "cell_type": "code",
      "metadata": {
        "colab": {
          "base_uri": "https://localhost:8080/"
        },
        "id": "c-5Oo1ggw0hA",
        "outputId": "2123b908-b671-43b0-a93f-767f82931483"
      },
      "source": [
        "# Chi square statistic\n",
        "\n",
        "from scipy.stats import chi2\n",
        "chi_square = sum([(o-e)**2./e for o,e in zip(observed_values,expected_values)])\n",
        "chi_square_statistic = chi_square[0]+chi_square[1]\n",
        "print(\"Chi Square Statistic: \", chi_square_statistic)"
      ],
      "execution_count": 17,
      "outputs": [
        {
          "output_type": "stream",
          "text": [
            "Chi Square Statistic:  0.001934818536627623\n"
          ],
          "name": "stdout"
        }
      ]
    },
    {
      "cell_type": "code",
      "metadata": {
        "colab": {
          "base_uri": "https://localhost:8080/"
        },
        "id": "bLkzUgYsxoW-",
        "outputId": "841fd14d-4e60-4c68-8e20-c4742e89cd1b"
      },
      "source": [
        "# Critical value\n",
        "\n",
        "critical_value = chi2.ppf(q = 1 - alpha, df = ddof)\n",
        "print(\"Critical Value: \", critical_value)"
      ],
      "execution_count": 18,
      "outputs": [
        {
          "output_type": "stream",
          "text": [
            "Critical Value:  3.841458820694124\n"
          ],
          "name": "stdout"
        }
      ]
    },
    {
      "cell_type": "code",
      "metadata": {
        "colab": {
          "base_uri": "https://localhost:8080/"
        },
        "id": "LiykVfClyfo5",
        "outputId": "08a9b6b2-758e-4796-c700-ad54a75b7159"
      },
      "source": [
        "# Pvalue\n",
        "\n",
        "pvalue = 1 - chi2.cdf(x = chi_square_statistic, df = ddof)\n",
        "print(\"Pvalue: \", pvalue)\n",
        "print(\"Significance Level: \", alpha)\n",
        "print(\"Degrees of Freedom\", ddof)"
      ],
      "execution_count": 19,
      "outputs": [
        {
          "output_type": "stream",
          "text": [
            "Pvalue:  0.964915107315732\n",
            "Significance Level:  0.05\n",
            "Degrees of Freedom 1\n"
          ],
          "name": "stdout"
        }
      ]
    },
    {
      "cell_type": "code",
      "metadata": {
        "colab": {
          "base_uri": "https://localhost:8080/"
        },
        "id": "peVWAStczEdA",
        "outputId": "ca086a86-a64d-4941-fb61-d1e5ff3e59b0"
      },
      "source": [
        "# Hypothesis testing\n",
        "\n",
        "## For a good test chi_square_statistic >= critical_value <always>\n",
        "if chi_square_statistic >= critical_value:\n",
        "  print(\"Reject null hypothesis, there is a relationship between the two categorical variables.\")\n",
        "else:\n",
        "  print(\"Accept the null hypothesis, there is no relatonship between the two categorical variables.\")\n",
        "\n",
        "  # For a good test pvalue >= alpha\n",
        "\n",
        "  if pvalue >= alpha:\n",
        "    print(\"Accept the null hypothesis, there is a relationship between the two categorical variables.\")\n",
        "  else:\n",
        "    print(\"Reject null hypothesis, there is a relationship between the two categorical variables.\")"
      ],
      "execution_count": 20,
      "outputs": [
        {
          "output_type": "stream",
          "text": [
            "Accept the null hypothesis, there is no relatonship between the two categorical variables.\n",
            "Accept the null hypothesis, there is a relationship between the two categorical variables.\n"
          ],
          "name": "stdout"
        }
      ]
    }
  ]
}