{
  "nbformat": 4,
  "nbformat_minor": 0,
  "metadata": {
    "colab": {
      "name": "One Sample T test",
      "provenance": [],
      "authorship_tag": "ABX9TyNbqvN9JTQVaD0lixaaDFwQ",
      "include_colab_link": true
    },
    "kernelspec": {
      "name": "python3",
      "display_name": "Python 3"
    },
    "language_info": {
      "name": "python"
    }
  },
  "cells": [
    {
      "cell_type": "markdown",
      "metadata": {
        "id": "view-in-github",
        "colab_type": "text"
      },
      "source": [
        "<a href=\"https://colab.research.google.com/github/swarnava-96/Hypothesis-Testing/blob/main/One_Sample_T_test.ipynb\" target=\"_parent\"><img src=\"https://colab.research.google.com/assets/colab-badge.svg\" alt=\"Open In Colab\"/></a>"
      ]
    },
    {
      "cell_type": "markdown",
      "metadata": {
        "id": "J3xq3TBsDMEF"
      },
      "source": [
        "# **T Test**\n",
        "\n",
        "A t-test is a type of inferential statistic which is used to determine if there is a significant difference between the means of two groups which may be related in certain features\n",
        "\n",
        "T-test has 2 types : 1. one sampled t-test 2. two-sampled t-test.\n",
        "\n",
        "## One-sample T-test\n",
        "\n",
        "The test will tell us whether means of the sample and the population are different.\n",
        "\n",
        "\n",
        "\n"
      ]
    },
    {
      "cell_type": "code",
      "metadata": {
        "id": "9FTTbQCXDPPQ"
      },
      "source": [
        "# Assume the population to be\n",
        "\n",
        "ages=[10,20,35,50,28,40,55,18,16,55,30,25,43,18,30,28,14,24,16,17,32,35,26,27,65,18,43,23,21,20,19,70]"
      ],
      "execution_count": 1,
      "outputs": []
    },
    {
      "cell_type": "code",
      "metadata": {
        "colab": {
          "base_uri": "https://localhost:8080/"
        },
        "id": "R4TkjHcOGjki",
        "outputId": "bf9bdd6b-3830-4b9b-f9db-14011c886f8b"
      },
      "source": [
        "# Length of the population\n",
        "\n",
        "len(ages)"
      ],
      "execution_count": 2,
      "outputs": [
        {
          "output_type": "execute_result",
          "data": {
            "text/plain": [
              "32"
            ]
          },
          "metadata": {
            "tags": []
          },
          "execution_count": 2
        }
      ]
    },
    {
      "cell_type": "code",
      "metadata": {
        "colab": {
          "base_uri": "https://localhost:8080/"
        },
        "id": "A9LEJ_YqGomZ",
        "outputId": "7ee18a84-c9ae-45d8-d559-49c1a718063b"
      },
      "source": [
        "# Calculating the population mean\n",
        "\n",
        "import numpy as np\n",
        "ages_mean = np.mean(ages)\n",
        "print(ages_mean)"
      ],
      "execution_count": 3,
      "outputs": [
        {
          "output_type": "stream",
          "text": [
            "30.34375\n"
          ],
          "name": "stdout"
        }
      ]
    },
    {
      "cell_type": "code",
      "metadata": {
        "colab": {
          "base_uri": "https://localhost:8080/"
        },
        "id": "4nrDAL-iG9UR",
        "outputId": "9ae66887-ab20-40e5-a1a7-a4ab21c0bec6"
      },
      "source": [
        "# Lets take a sample\n",
        "\n",
        "sample_size = 10\n",
        "age_sample = np.random.choice(ages, sample_size)\n",
        "print(age_sample)"
      ],
      "execution_count": 4,
      "outputs": [
        {
          "output_type": "stream",
          "text": [
            "[24 16 55 43 27 27 16 65 28 25]\n"
          ],
          "name": "stdout"
        }
      ]
    },
    {
      "cell_type": "code",
      "metadata": {
        "id": "HRHH4_e4Hh_x"
      },
      "source": [
        "# Lets import T test one sample\n",
        "\n",
        "from scipy.stats import ttest_1samp"
      ],
      "execution_count": 5,
      "outputs": []
    },
    {
      "cell_type": "code",
      "metadata": {
        "id": "-OqzOc3pHu7c"
      },
      "source": [
        "Ttest, pvalue = ttest_1samp(age_sample, 30.34375)"
      ],
      "execution_count": 6,
      "outputs": []
    },
    {
      "cell_type": "code",
      "metadata": {
        "colab": {
          "base_uri": "https://localhost:8080/"
        },
        "id": "lwDjID9pIFFD",
        "outputId": "b3eb3189-3a9a-4687-a9a9-65be90d06501"
      },
      "source": [
        "# Lets print the pvalue as we are more interested in it\n",
        "\n",
        "print(pvalue)"
      ],
      "execution_count": 7,
      "outputs": [
        {
          "output_type": "stream",
          "text": [
            "0.6741303459590877\n"
          ],
          "name": "stdout"
        }
      ]
    },
    {
      "cell_type": "code",
      "metadata": {
        "colab": {
          "base_uri": "https://localhost:8080/"
        },
        "id": "4z7T8gwoILDu",
        "outputId": "1cff19be-5918-4970-e683-1ca877309256"
      },
      "source": [
        "# Hypothesis testing\n",
        "\n",
        "if pvalue < 0.05:      # alpha value is 0.05 or 5%\n",
        "  print(\"We are rejecting the null hypothesis\")\n",
        "else:\n",
        "  print(\"We are accepting the null hypothesis\")"
      ],
      "execution_count": 8,
      "outputs": [
        {
          "output_type": "stream",
          "text": [
            "We are accepting the null hypothesis\n"
          ],
          "name": "stdout"
        }
      ]
    },
    {
      "cell_type": "markdown",
      "metadata": {
        "id": "_F4dAVtFJENd"
      },
      "source": [
        "### Some More Examples\n",
        "Consider the age of students in a college and in Class A"
      ]
    },
    {
      "cell_type": "code",
      "metadata": {
        "id": "eI9OuONKI2c5"
      },
      "source": [
        "import numpy as np\n",
        "import pandas as pd\n",
        "import scipy.stats as stats\n",
        "import math\n",
        "np.random.seed(6)\n",
        "\n",
        "# Population\n",
        "school_ages=stats.poisson.rvs(loc=18,mu=35,size=1500)\n",
        "\n",
        "# Sample\n",
        "classA_ages=stats.poisson.rvs(loc=18,mu=30,size=60)"
      ],
      "execution_count": 9,
      "outputs": []
    },
    {
      "cell_type": "code",
      "metadata": {
        "colab": {
          "base_uri": "https://localhost:8080/"
        },
        "id": "Ax_jS3l1JvQd",
        "outputId": "a2f468c6-eb00-45ab-e65c-7aa3d511b39c"
      },
      "source": [
        "# Calculating the mean of the sample\n",
        "\n",
        "classA_ages.mean()"
      ],
      "execution_count": 10,
      "outputs": [
        {
          "output_type": "execute_result",
          "data": {
            "text/plain": [
              "46.9"
            ]
          },
          "metadata": {
            "tags": []
          },
          "execution_count": 10
        }
      ]
    },
    {
      "cell_type": "code",
      "metadata": {
        "colab": {
          "base_uri": "https://localhost:8080/"
        },
        "id": "-aiaz15tKPlv",
        "outputId": "527f3776-a29a-47c7-a0e0-b44a6b2e7261"
      },
      "source": [
        "# Calculationg the pvalue\n",
        "\n",
        "_, pvalue = stats.ttest_1samp(a = classA_ages, popmean = school_ages.mean())\n",
        "print(pvalue)"
      ],
      "execution_count": 11,
      "outputs": [
        {
          "output_type": "stream",
          "text": [
            "1.139027071016194e-13\n"
          ],
          "name": "stdout"
        }
      ]
    },
    {
      "cell_type": "code",
      "metadata": {
        "colab": {
          "base_uri": "https://localhost:8080/"
        },
        "id": "hvguPH93Ky6B",
        "outputId": "f920b436-4353-4e48-ace8-fb41d13c1d93"
      },
      "source": [
        "# Calculating the population mean\n",
        "\n",
        "school_ages.mean()"
      ],
      "execution_count": 12,
      "outputs": [
        {
          "output_type": "execute_result",
          "data": {
            "text/plain": [
              "53.303333333333335"
            ]
          },
          "metadata": {
            "tags": []
          },
          "execution_count": 12
        }
      ]
    },
    {
      "cell_type": "markdown",
      "metadata": {
        "id": "dh-iCVIiLDPB"
      },
      "source": [
        "Clearly, we can see that the population mean and the sample mean are not same."
      ]
    },
    {
      "cell_type": "code",
      "metadata": {
        "colab": {
          "base_uri": "https://localhost:8080/"
        },
        "id": "lIRcRaJ7LKMM",
        "outputId": "882c6e8f-d33b-4cdf-bc82-dcb5e15fb32d"
      },
      "source": [
        "# Hypothesis testing\n",
        "\n",
        "if pvalue < 0.05:\n",
        "  print(\"Reject the null hypothesis\")\n",
        "else:\n",
        "  print(\"Accept the null hypothesis\")"
      ],
      "execution_count": 13,
      "outputs": [
        {
          "output_type": "stream",
          "text": [
            "Reject the null hypothesis\n"
          ],
          "name": "stdout"
        }
      ]
    }
  ]
}