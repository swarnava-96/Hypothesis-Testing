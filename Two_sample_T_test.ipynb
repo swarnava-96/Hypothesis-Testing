{
  "nbformat": 4,
  "nbformat_minor": 0,
  "metadata": {
    "colab": {
      "name": "Two-sample T-test",
      "provenance": [],
      "authorship_tag": "ABX9TyND5w18dPrg3IRO+e9O95wG",
      "include_colab_link": true
    },
    "kernelspec": {
      "name": "python3",
      "display_name": "Python 3"
    },
    "language_info": {
      "name": "python"
    }
  },
  "cells": [
    {
      "cell_type": "markdown",
      "metadata": {
        "id": "view-in-github",
        "colab_type": "text"
      },
      "source": [
        "<a href=\"https://colab.research.google.com/github/swarnava-96/Hypothesis-Testing/blob/main/Two_sample_T_test.ipynb\" target=\"_parent\"><img src=\"https://colab.research.google.com/assets/colab-badge.svg\" alt=\"Open In Colab\"/></a>"
      ]
    },
    {
      "cell_type": "markdown",
      "metadata": {
        "id": "LkUPlfFwTc6N"
      },
      "source": [
        "# **Two-sample T-test**\n",
        "The Independent Samples t Test or 2-sample t-test compares the means of two independent groups in order to determine whether there is statistical evidence that the associated population means are significantly different. The Independent Samples t Test is a parametric test. This test is also known as: Independent t Test"
      ]
    },
    {
      "cell_type": "code",
      "metadata": {
        "id": "ngsV67V-Tfof"
      },
      "source": [
        "import numpy as np\n",
        "import pandas as pd\n",
        "import scipy.stats as stats\n",
        "import math\n",
        "np.random.seed(6)\n",
        "\n",
        "# Population\n",
        "school_ages = stats.poisson.rvs(loc = 18, mu = 35, size = 1500)\n",
        "\n",
        "# Sample 1\n",
        "classA_ages = stats.poisson.rvs(loc = 18, mu = 30, size = 60)"
      ],
      "execution_count": 1,
      "outputs": []
    },
    {
      "cell_type": "code",
      "metadata": {
        "colab": {
          "base_uri": "https://localhost:8080/"
        },
        "id": "rSlj2sK8VENH",
        "outputId": "b560d9d6-542a-49fa-e1c9-a70fb23393a1"
      },
      "source": [
        "np.random.seed(12)\n",
        "classB_ages = stats.poisson.rvs(loc = 18, mu = 33, size = 60)\n",
        "classB_ages.mean()"
      ],
      "execution_count": 2,
      "outputs": [
        {
          "output_type": "execute_result",
          "data": {
            "text/plain": [
              "50.63333333333333"
            ]
          },
          "metadata": {
            "tags": []
          },
          "execution_count": 2
        }
      ]
    },
    {
      "cell_type": "code",
      "metadata": {
        "colab": {
          "base_uri": "https://localhost:8080/"
        },
        "id": "lHA_VJfYVb9k",
        "outputId": "c3aef831-1df8-426d-a189-44a490eb9871"
      },
      "source": [
        "# Two sample t test\n",
        "\n",
        "_, pvalue = stats.ttest_ind(classA_ages, classB_ages, equal_var = False)  #  Welch's t-test\n",
        "print(pvalue)"
      ],
      "execution_count": 3,
      "outputs": [
        {
          "output_type": "stream",
          "text": [
            "0.00039942095100859375\n"
          ],
          "name": "stdout"
        }
      ]
    },
    {
      "cell_type": "code",
      "metadata": {
        "colab": {
          "base_uri": "https://localhost:8080/"
        },
        "id": "ate1WRoaWStV",
        "outputId": "dd363069-9949-48a3-a73e-e2bbc247ad1c"
      },
      "source": [
        "# Hypothesis testing\n",
        "\n",
        "if pvalue < 0.05:\n",
        "  print(\"Reject the null hypothesis\")\n",
        "else:\n",
        "  print(\"Accept the null hypothesis\")"
      ],
      "execution_count": 4,
      "outputs": [
        {
          "output_type": "stream",
          "text": [
            "Reject the null hypothesis\n"
          ],
          "name": "stdout"
        }
      ]
    }
  ]
}